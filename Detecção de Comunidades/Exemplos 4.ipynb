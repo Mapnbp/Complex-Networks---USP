{
 "cells": [
  {
   "cell_type": "markdown",
   "id": "1ace3e07",
   "metadata": {},
   "source": [
    "# Questionário 4\n",
    "## Matheus Araujo Pinheiro - 14676810"
   ]
  },
  {
   "cell_type": "code",
   "execution_count": 1,
   "id": "5ed6b06e",
   "metadata": {},
   "outputs": [],
   "source": [
    "import networkx as nx\n",
    "import networkx as nx\n",
    "from networkx.algorithms.community import greedy_modularity_communities\n",
    "import community as community_louvain "
   ]
  },
  {
   "cell_type": "markdown",
   "id": "6f1b453d",
   "metadata": {},
   "source": [
    "#### Questão 1"
   ]
  },
  {
   "cell_type": "code",
   "execution_count": 2,
   "id": "aa0acb91",
   "metadata": {},
   "outputs": [
    {
     "name": "stdout",
     "output_type": "stream",
     "text": [
      "Modularidade (FastGreedy): 0.4389\n"
     ]
    }
   ],
   "source": [
    "# Carrega e prepara o grafo\n",
    "G = nx.read_edgelist(\"jazz.txt\", nodetype=int)\n",
    "G = G.to_undirected()\n",
    "G.remove_edges_from(nx.selfloop_edges(G))\n",
    "\n",
    "# Pega o maior componente conexo\n",
    "Gcc = sorted(nx.connected_components(G), key=len, reverse=True)\n",
    "G = G.subgraph(Gcc[0]).copy()\n",
    "G = nx.convert_node_labels_to_integers(G, first_label=0)\n",
    "\n",
    "# Aplica FastGreedy (greedy_modularity_communities)\n",
    "communities = greedy_modularity_communities(G)\n",
    "\n",
    "# Converte para formato de lista de conjuntos para modularidade\n",
    "mod = nx.algorithms.community.quality.modularity(G, communities)\n",
    "print(f\"Modularidade (FastGreedy): {mod:.4f}\")"
   ]
  },
  {
   "cell_type": "markdown",
   "id": "d9a968af",
   "metadata": {},
   "source": [
    "#### Questão 2"
   ]
  },
  {
   "cell_type": "code",
   "execution_count": 3,
   "id": "0eec03c5",
   "metadata": {},
   "outputs": [
    {
     "name": "stdout",
     "output_type": "stream",
     "text": [
      "Modularidade (Louvain): 0.4399\n"
     ]
    }
   ],
   "source": [
    "# Pega o maior componente conexo\n",
    "Gcc = sorted(nx.connected_components(G), key=len, reverse=True)\n",
    "G = G.subgraph(Gcc[0]).copy()\n",
    "G = nx.convert_node_labels_to_integers(G, first_label=0)\n",
    "\n",
    "# Aplica Louvain\n",
    "partition = community_louvain.best_partition(G)\n",
    "\n",
    "# Calcula modularidade\n",
    "modularity = community_louvain.modularity(partition, G)\n",
    "print(f\"Modularidade (Louvain): {modularity:.4f}\")"
   ]
  },
  {
   "cell_type": "markdown",
   "id": "2a8ccb38",
   "metadata": {},
   "source": [
    "#### Questão 3"
   ]
  },
  {
   "cell_type": "code",
   "execution_count": 4,
   "id": "d5b0b368",
   "metadata": {},
   "outputs": [
    {
     "name": "stdout",
     "output_type": "stream",
     "text": [
      "μ = 0.05 → Modularidade (Louvain): 0.6479\n",
      "μ = 0.10 → Modularidade (Louvain): 0.5440\n",
      "μ = 0.20 → Modularidade (Louvain): 0.4437\n"
     ]
    }
   ],
   "source": [
    "mu_values = [0.05, 0.1, 0.2]\n",
    "N = 128\n",
    "tau1 = 3\n",
    "tau2 = 1.5\n",
    "k = 16\n",
    "minc = 32\n",
    "maxc = 32\n",
    "\n",
    "for mu in mu_values:\n",
    "    G = nx.LFR_benchmark_graph(\n",
    "        n=N, tau1=tau1, tau2=tau2, mu=mu,\n",
    "        min_degree=k, max_degree=k,\n",
    "        min_community=minc, max_community=maxc,\n",
    "        seed=10\n",
    "    )\n",
    "\n",
    "    G = G.to_undirected()\n",
    "    G.remove_edges_from(nx.selfloop_edges(G))\n",
    "\n",
    "    partition = community_louvain.best_partition(G)\n",
    "    modularity = community_louvain.modularity(partition, G)\n",
    "    \n",
    "    print(f\"μ = {mu:.2f} → Modularidade (Louvain): {modularity:.4f}\")"
   ]
  },
  {
   "cell_type": "markdown",
   "id": "575353ca",
   "metadata": {},
   "source": [
    "#### Questão 4"
   ]
  },
  {
   "cell_type": "code",
   "execution_count": 5,
   "id": "9fc05732",
   "metadata": {},
   "outputs": [
    {
     "name": "stdout",
     "output_type": "stream",
     "text": [
      "μ = 0.05 → Modularidade (FastGreedy): 0.6479\n",
      "μ = 0.20 → Modularidade (FastGreedy): 0.4391\n",
      "μ = 0.40 → Modularidade (FastGreedy): 0.1616\n"
     ]
    }
   ],
   "source": [
    "# Valores de mu\n",
    "mu_values = [0.05, 0.2, 0.4]\n",
    "\n",
    "for mu in mu_values:\n",
    "    G = nx.LFR_benchmark_graph(\n",
    "        n=N, tau1=tau1, tau2=tau2, mu=mu,\n",
    "        min_degree=k, max_degree=k,\n",
    "        min_community=minc, max_community=maxc,\n",
    "        seed=10\n",
    "    )\n",
    "\n",
    "    G = G.to_undirected()\n",
    "    G.remove_edges_from(nx.selfloop_edges(G))\n",
    "\n",
    "    communities = greedy_modularity_communities(G)\n",
    "    mod = nx.algorithms.community.quality.modularity(G, communities)\n",
    "\n",
    "    print(f\"μ = {mu:.2f} → Modularidade (FastGreedy): {mod:.4f}\")"
   ]
  }
 ],
 "metadata": {
  "kernelspec": {
   "display_name": "Python 3 (ipykernel)",
   "language": "python",
   "name": "python3"
  },
  "language_info": {
   "codemirror_mode": {
    "name": "ipython",
    "version": 3
   },
   "file_extension": ".py",
   "mimetype": "text/x-python",
   "name": "python",
   "nbconvert_exporter": "python",
   "pygments_lexer": "ipython3",
   "version": "3.11.4"
  }
 },
 "nbformat": 4,
 "nbformat_minor": 5
}
