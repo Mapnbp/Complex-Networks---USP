{
 "cells": [
  {
   "cell_type": "markdown",
   "id": "44bfd0f9",
   "metadata": {},
   "source": [
    "# Questionario 3\n",
    "## Matheus Araujo Pinheiro - 14676810"
   ]
  },
  {
   "cell_type": "code",
   "execution_count": 22,
   "id": "0db92a6b",
   "metadata": {},
   "outputs": [],
   "source": [
    "from numpy  import *\n",
    "import numpy as np\n",
    "np.random.seed(100)\n",
    "import matplotlib.pyplot as plt\n",
    "import networkx as nx\n",
    "from scipy import stats"
   ]
  },
  {
   "cell_type": "markdown",
   "id": "e2562b27",
   "metadata": {},
   "source": [
    "1. A média medida eigenvector centrality da rede USairport500 é igual a quanto? Considere apenas o maior componente."
   ]
  },
  {
   "cell_type": "code",
   "execution_count": 10,
   "id": "032deb1f",
   "metadata": {},
   "outputs": [
    {
     "name": "stdout",
     "output_type": "stream",
     "text": [
      "Average eigenvector centrality 0.022754398239423667\n"
     ]
    }
   ],
   "source": [
    "# Carrega a lista de arestas do grafo, com pesos nas arestas\n",
    "grafo = nx.read_edgelist(\"data/USairport500.txt\", nodetype=int, data=(('weight', float),))\n",
    "\n",
    "# Converte o grafo para nao-direcionado\n",
    "grafo = grafo.to_undirected()\n",
    "\n",
    "# Remove os auto loops (arestas que ligam um no a ele mesmo)\n",
    "grafo.remove_edges_from(nx.selfloop_edges(grafo))\n",
    "\n",
    "# Seleciona o maior componente conexo do grafo\n",
    "componentes_conexos = sorted(nx.connected_components(grafo), key=len, reverse=True)\n",
    "maior_componente = grafo.subgraph(componentes_conexos[0])\n",
    "\n",
    "# Renomeia os nos para inteiros consecutivos a partir de 0\n",
    "grafo = nx.convert_node_labels_to_integers(maior_componente, first_label=0)\n",
    "\n",
    "# Calcula a centralidade do autovetor para cada no\n",
    "centralidade_autovetor = dict(nx.eigenvector_centrality(grafo, max_iter=1000))\n",
    "\n",
    "# Extrai os valores da centralidade e calcula a media\n",
    "valores_centralidade = list(centralidade_autovetor.values())\n",
    "media_centralidade = np.mean(valores_centralidade)\n",
    "\n",
    "print('Average eigenvector centrality ', media_centralidade)\n"
   ]
  },
  {
   "cell_type": "markdown",
   "id": "cb7bda6a",
   "metadata": {},
   "source": [
    "2. Calcule a correlação de Pearson entre a medida betweeness centrality e grau para a rede hamsterster. Use:"
   ]
  },
  {
   "cell_type": "code",
   "execution_count": null,
   "id": "b05a08cb",
   "metadata": {},
   "outputs": [
    {
     "name": "stdout",
     "output_type": "stream",
     "text": [
      "Pearson correlation coefficient: 0.8242435188731514\n"
     ]
    }
   ],
   "source": [
    "# Carrega a lista de arestas do grafo, com pesos nas arestas\n",
    "grafo = nx.read_edgelist(\"data/hamsterster.txt\", nodetype=int, data=(('weight', float),))\n",
    "\n",
    "# Converte o grafo para nao-direcionado\n",
    "grafo = grafo.to_undirected()\n",
    "\n",
    "# Remove os auto loops (arestas que ligam um no a ele mesmo)\n",
    "grafo.remove_edges_from(nx.selfloop_edges(grafo))\n",
    "\n",
    "# Seleciona o maior componente conexo do grafo\n",
    "componentes_conexos = sorted(nx.connected_components(grafo), key=len, reverse=True)\n",
    "maior_componente = grafo.subgraph(componentes_conexos[0])\n",
    "\n",
    "# Renomeia os nos para inteiros consecutivos a partir de 0\n",
    "grafo = nx.convert_node_labels_to_integers(maior_componente, first_label=0)\n",
    "\n",
    "# Calcula o grau de cada no (numero de conexoes)\n",
    "graus_nos = dict(grafo.degree())\n",
    "valores_grau = list(graus_nos.values())\n",
    "\n",
    "# Calcula a centralidade de intermediação (betweenness) para cada no\n",
    "centralidade_intermediacao = dict(nx.betweenness_centrality(grafo))\n",
    "valores_intermediacao = list(centralidade_intermediacao.values())\n",
    "\n",
    "# Calcula a correlacao de Pearson entre grau e centralidade de intermediação\n",
    "correlacao_pearson = np.corrcoef(valores_grau, valores_intermediacao)[0, 1]\n",
    "print('Pearson correlation coefficient: ', correlacao_pearson)\n"
   ]
  },
  {
   "cell_type": "markdown",
   "id": "88a872a4",
   "metadata": {},
   "source": [
    "3. Calcule o coeficiente de correlação de Spearman entre as medidas closeness centrality e k-core para a rede \"Jazz\"."
   ]
  },
  {
   "cell_type": "code",
   "execution_count": 24,
   "id": "76f34e27",
   "metadata": {},
   "outputs": [
    {
     "name": "stdout",
     "output_type": "stream",
     "text": [
      "Spearman rank correlation coefficient: 0.7353399833516918\n"
     ]
    }
   ],
   "source": [
    "# Carrega a lista de arestas do grafo, com pesos nas arestas\n",
    "grafo = nx.read_edgelist(\"data/jazz.txt\", nodetype=int, data=(('weight', float),))\n",
    "\n",
    "# Converte o grafo para nao-direcionado\n",
    "grafo = grafo.to_undirected()\n",
    "\n",
    "# Remove os auto loops (arestas que ligam um no a ele mesmo)\n",
    "grafo.remove_edges_from(nx.selfloop_edges(grafo))\n",
    "\n",
    "# Seleciona o maior componente conexo do grafo\n",
    "componentes_conexos = sorted(nx.connected_components(grafo), key=len, reverse=True)\n",
    "maior_componente = grafo.subgraph(componentes_conexos[0])\n",
    "\n",
    "# Renomeia os nos para inteiros consecutivos a partir de 0\n",
    "grafo = nx.convert_node_labels_to_integers(maior_componente, first_label=0)\n",
    "\n",
    "# Calcula a centralidade de proximidade (closeness) de cada no\n",
    "centralidade_proximidade = dict(nx.closeness_centrality(grafo))\n",
    "valores_proximidade = list(centralidade_proximidade.values())\n",
    "\n",
    "# Calcula o numero do k-core de cada no\n",
    "k_core = dict(nx.core_number(grafo))\n",
    "valores_k_core = list(k_core.values())\n",
    "\n",
    "# Calcula a correlacao de Spearman entre closeness centrality e k-core\n",
    "correlacao_spearman = stats.spearmanr(valores_proximidade, valores_k_core)\n",
    "print('Spearman rank correlation coefficient: ', correlacao_spearman.correlation)\n"
   ]
  }
 ],
 "metadata": {
  "kernelspec": {
   "display_name": "Python 3 (ipykernel)",
   "language": "python",
   "name": "python3"
  },
  "language_info": {
   "codemirror_mode": {
    "name": "ipython",
    "version": 3
   },
   "file_extension": ".py",
   "mimetype": "text/x-python",
   "name": "python",
   "nbconvert_exporter": "python",
   "pygments_lexer": "ipython3",
   "version": "3.11.4"
  }
 },
 "nbformat": 4,
 "nbformat_minor": 5
}
