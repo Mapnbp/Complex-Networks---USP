{
 "cells": [
  {
   "cell_type": "markdown",
   "metadata": {},
   "source": [
    "# Questionário 2 \n",
    "## Matheus Araujo Pinheiro 14676810"
   ]
  },
  {
   "cell_type": "code",
   "execution_count": 47,
   "metadata": {},
   "outputs": [],
   "source": [
    "from numpy  import *\n",
    "import numpy as np\n",
    "import matplotlib.pyplot as plt\n",
    "import networkx as nx\n",
    "from collections import Counter"
   ]
  },
  {
   "cell_type": "markdown",
   "metadata": {},
   "source": [
    "1. Para a rede social Hamsterster, calcule a média dos menores caminhos e o diâmetro. Considere apenas o maior componente.\n"
   ]
  },
  {
   "cell_type": "code",
   "execution_count": null,
   "metadata": {},
   "outputs": [
    {
     "name": "stdout",
     "output_type": "stream",
     "text": [
      "Average shortest path length: 3.4526\n",
      "Network diameter: 14\n"
     ]
    }
   ],
   "source": [
    "# Le a lista de arestas do arquivo e cria o grafo\n",
    "grafo = nx.read_edgelist(\"data/hamsterster.txt\", nodetype=int)\n",
    "\n",
    "# Transforma o grafo em nao direcionado e remove auto lacos\n",
    "grafo = grafo.to_undirected()\n",
    "grafo.remove_edges_from(nx.selfloop_edges(grafo))\n",
    "\n",
    "# Seleciona o maior componente conexo do grafo\n",
    "componentes_conexos = sorted(nx.connected_components(grafo), key=len, reverse=True)\n",
    "grafo = grafo.subgraph(componentes_conexos[0])\n",
    "\n",
    "# Converte os rotulos dos nos para inteiros consecutivos comecando do zero\n",
    "grafo = nx.convert_node_labels_to_integers(grafo, first_label=0)\n",
    "\n",
    "# Numero de nos e numero de arestas\n",
    "numero_nos = len(grafo)\n",
    "numero_arestas = grafo.number_of_edges()\n",
    "\n",
    "# Calcula a media dos menores caminhos entre os pares de nos\n",
    "if nx.is_connected(grafo):\n",
    "    comprimento_medio_caminho = nx.average_shortest_path_length(grafo)\n",
    "    print(\"Average shortest path length:\", \"%3.4f\" % comprimento_medio_caminho)\n",
    "else:\n",
    "    print(\"The graph has more than one connected component\")\n",
    "\n",
    "# Calcula o diametro da rede\n",
    "diametro = nx.diameter(grafo)\n",
    "print(\"Network diameter:\", diametro)"
   ]
  },
  {
   "cell_type": "markdown",
   "metadata": {},
   "source": [
    "2. Para a rede de aeroportos (base USairport500), calcule a média e variância do comprimento dos menores caminhos. Considere apenas o maior componente na rede."
   ]
  },
  {
   "cell_type": "code",
   "execution_count": 42,
   "metadata": {},
   "outputs": [
    {
     "data": {
      "image/png": "[encoded data removed]",
      "text/plain": [
       "<Figure size 432x288 with 1 Axes>"
      ]
     },
     "metadata": {
      "needs_background": "light"
     },
     "output_type": "display_data"
    },
    {
     "name": "stdout",
     "output_type": "stream",
     "text": [
      "Mean shortest path length: 2.9910\n",
      "Variance of shortest path lengths: 0.8175\n"
     ]
    }
   ],
   "source": [
    "# Le a lista de arestas do arquivo e cria o grafo\n",
    "grafo = nx.read_edgelist(\"data/USairport500.txt\", nodetype=int)\n",
    "\n",
    "# Transforma o grafo em nao direcionado e remove auto lacos\n",
    "grafo = grafo.to_undirected()\n",
    "grafo.remove_edges_from(nx.selfloop_edges(grafo))\n",
    "\n",
    "# Seleciona o maior componente conexo do grafo\n",
    "componentes_conexos = sorted(nx.connected_components(grafo), key=len, reverse=True)\n",
    "grafo = grafo.subgraph(componentes_conexos[0])\n",
    "\n",
    "# Converte os rotulos dos nos para inteiros consecutivos comecando do zero\n",
    "grafo = nx.convert_node_labels_to_integers(grafo, first_label=0)\n",
    "\n",
    "# Numero de nos e numero de arestas\n",
    "numero_nos = len(grafo)\n",
    "numero_arestas = grafo.number_of_edges()\n",
    "\n",
    "# Matriz de todas as distancias entre os pares de nos\n",
    "if nx.is_connected(grafo):\n",
    "    matriz_distancias = zeros(shape=(numero_nos, numero_nos))\n",
    "    lista_caminhos = []\n",
    "    for i in np.arange(0, numero_nos):\n",
    "        for j in np.arange(i + 1, numero_nos):\n",
    "            if i != j:\n",
    "                caminho_mais_curto = nx.shortest_path(grafo, i, j)\n",
    "                comprimento = len(caminho_mais_curto) - 1\n",
    "                matriz_distancias[i][j] = comprimento\n",
    "                matriz_distancias[j][i] = comprimento\n",
    "                lista_caminhos.append(comprimento)\n",
    "    \n",
    "    diametro = nx.diameter(grafo)\n",
    "    eixo_x = range(0, diametro + 1)\n",
    "    \n",
    "    plt.hist(lista_caminhos, bins=eixo_x, density=True, color='#0504aa', alpha=0.7, rwidth=0.85)\n",
    "    plt.title(\"Distribution of the geodesic distances\", fontsize=20)\n",
    "    plt.ylabel(\"P(l)\", fontsize=15)\n",
    "    plt.xlabel(\"Shortest path length (l)\", fontsize=15)\n",
    "    plt.savefig('av_short_path.svg')\n",
    "    plt.show()\n",
    "else:\n",
    "    print(\"The graph has more than one connected component\")\n",
    "\n",
    "# Calcular a media e a variancia dos caminhos mais curtos\n",
    "media_caminhos = np.mean(lista_caminhos)\n",
    "variancia_caminhos = np.var(lista_caminhos)\n",
    "\n",
    "print(f\"Mean shortest path length: {media_caminhos:.4f}\")\n",
    "print(f\"Variance of shortest path lengths: {variancia_caminhos:.4f}\")\n",
    "\n"
   ]
  },
  {
   "cell_type": "markdown",
   "metadata": {},
   "source": [
    "3. Calcule o coeficiente de assortatividade para a rede Advogato. Considere apenas o maior componente. Considere o valor mais próximo."
   ]
  },
  {
   "cell_type": "code",
   "execution_count": 39,
   "metadata": {},
   "outputs": [
    {
     "name": "stdout",
     "output_type": "stream",
     "text": [
      "Assortativity =  -0.0957\n"
     ]
    }
   ],
   "source": [
    "# Le a lista de arestas do arquivo e cria o grafo\n",
    "grafo = nx.read_edgelist(\"data/advogato.txt\", nodetype=int)\n",
    "\n",
    "# Transforma o grafo em nao direcionado e remove auto lacos\n",
    "grafo = grafo.to_undirected()\n",
    "grafo.remove_edges_from(nx.selfloop_edges(grafo))\n",
    "\n",
    "# Seleciona o maior componente conexo do grafo\n",
    "componentes_conexos = sorted(nx.connected_components(grafo), key=len, reverse=True)\n",
    "grafo = grafo.subgraph(componentes_conexos[0])\n",
    "\n",
    "# Converte os rotulos dos nos para inteiros consecutivos comecando do zero\n",
    "grafo = nx.convert_node_labels_to_integers(grafo, first_label=0)\n",
    "\n",
    "# Calcula o coeficiente de assortatividade\n",
    "coeficiente_assortatividade = nx.degree_assortativity_coefficient(grafo)\n",
    "print(\"Assortativity =\", \"%3.4f\" % coeficiente_assortatividade)\n"
   ]
  },
  {
   "cell_type": "markdown",
   "metadata": {},
   "source": [
    "4. Para a rede de aeroportos (USairport500), calcule a entropia de Shannon considerando o comprimento dos menores caminhos. Use o logaritmo na base 2 e considere apenas o maior componente."
   ]
  },
  {
   "cell_type": "code",
   "execution_count": null,
   "metadata": {},
   "outputs": [
    {
     "name": "stdout",
     "output_type": "stream",
     "text": [
      "Shannon Entropy of Shortest Path Lengths: 1.8837\n"
     ]
    }
   ],
   "source": [
    "# Le a lista de arestas do arquivo e cria o grafo\n",
    "grafo = nx.read_edgelist(\"data/USairport500.txt\", nodetype=int)\n",
    "\n",
    "# Transforma o grafo em nao direcionado e remove auto lacos\n",
    "grafo = grafo.to_undirected()\n",
    "grafo.remove_edges_from(nx.selfloop_edges(grafo))\n",
    "\n",
    "# Seleciona o maior componente conexo do grafo\n",
    "componentes_conexos = sorted(nx.connected_components(grafo), key=len, reverse=True)\n",
    "grafo = grafo.subgraph(componentes_conexos[0])\n",
    "\n",
    "# Converte os rotulos dos nos para inteiros consecutivos comecando do zero\n",
    "grafo = nx.convert_node_labels_to_integers(grafo, first_label=0)\n",
    "\n",
    "# Numero de nos e numero de arestas\n",
    "numero_nos = len(grafo)\n",
    "numero_arestas = grafo.number_of_edges()\n",
    "\n",
    "# Matriz de todas as distancias entre os pares de nos\n",
    "if nx.is_connected(grafo):\n",
    "    matriz_distancias = zeros(shape=(numero_nos, numero_nos))\n",
    "    lista_distancias = []\n",
    "    for i in np.arange(0, numero_nos):\n",
    "        for j in np.arange(i + 1, numero_nos):\n",
    "            if i != j:\n",
    "                caminho = nx.shortest_path(grafo, i, j)\n",
    "                distancia = len(caminho) - 1\n",
    "                matriz_distancias[i][j] = distancia\n",
    "                matriz_distancias[j][i] = distancia\n",
    "                lista_distancias.append(distancia)\n",
    "else:\n",
    "    print(\"The graph has more than one connected component\")\n",
    "\n",
    "# Funcao que calcula a entropia de shannon para os caminhos mais curtos\n",
    "def entropia_shannon(caminhos):\n",
    "    contagem = Counter(caminhos)\n",
    "    total = len(caminhos)\n",
    "    probabilidades = np.array([qtd / total for qtd in contagem.values()])\n",
    "    entropia = -np.sum(probabilidades * np.log2(probabilidades))\n",
    "    return entropia\n",
    "\n",
    "entropia = entropia_shannon(lista_distancias)\n",
    "print(f\"Shannon Entropy of Shortest Path Lengths: {entropia:.4f}\")"
   ]
  },
  {
   "cell_type": "markdown",
   "metadata": {},
   "source": [
    "5. Calcule o coeficiente de correlação de Pearson entre o grau médio dos vizinhos e o grau para a rede de palavras (word_adjacencies). Considere apenas o maior componente conectado.\n"
   ]
  },
  {
   "cell_type": "code",
   "execution_count": null,
   "metadata": {},
   "outputs": [
    {
     "name": "stdout",
     "output_type": "stream",
     "text": [
      "Pearson correlation coefficient: -0.710832214935246\n"
     ]
    }
   ],
   "source": [
    "import networkx as nx\n",
    "import numpy as np\n",
    "from numpy import zeros, mean, corrcoef, arange\n",
    "\n",
    "# Le a lista de arestas do arquivo e cria o grafo\n",
    "grafo = nx.read_edgelist(\"data/word_adjacencies.txt\", nodetype=int)\n",
    "\n",
    "# Transforma o grafo em nao direcionado e remove auto lacos\n",
    "grafo = grafo.to_undirected()\n",
    "grafo.remove_edges_from(nx.selfloop_edges(grafo))\n",
    "\n",
    "# Seleciona o maior componente conexo do grafo\n",
    "componentes_conexos = sorted(nx.connected_components(grafo), key=len, reverse=True)\n",
    "grafo = grafo.subgraph(componentes_conexos[0])\n",
    "\n",
    "# Converte os rotulos dos nos para inteiros consecutivos comecando do zero\n",
    "grafo = nx.convert_node_labels_to_integers(grafo, first_label=0)\n",
    "\n",
    "# Numero de nos e de arestas\n",
    "numero_nos = len(grafo)\n",
    "numero_arestas = grafo.number_of_edges()\n",
    "\n",
    "# Matriz de todas as distancias entre os pares de nos\n",
    "if nx.is_connected(grafo):\n",
    "    matriz_distancias = zeros(shape=(numero_nos, numero_nos))\n",
    "    lista_distancias = []\n",
    "    for i in np.arange(0, numero_nos):\n",
    "        for j in np.arange(i + 1, numero_nos):\n",
    "            if i != j:\n",
    "                caminho = nx.shortest_path(grafo, i, j)\n",
    "                distancia = len(caminho) - 1\n",
    "                matriz_distancias[i][j] = distancia\n",
    "                matriz_distancias[j][i] = distancia\n",
    "                lista_distancias.append(distancia)\n",
    "else:\n",
    "    print(\"The graph has more than one connected component\")\n",
    "\n",
    "# Calcula o grau medio dos vizinhos para cada no\n",
    "grau_medio_vizinhos = []\n",
    "for no in grafo.nodes():\n",
    "    media_vizinhos = nx.average_neighbor_degree(grafo, nodes=[no])\n",
    "    grau_medio_vizinhos.append(float(media_vizinhos[no]))\n",
    "grau_medio_vizinhos = np.array(grau_medio_vizinhos)\n",
    "\n",
    "# Lista de graus de cada no\n",
    "graus_nos = dict(grafo.degree())\n",
    "graus_nos = list(graus_nos.values())\n",
    "\n",
    "# Correlacao entre o grau de cada no e o grau medio de seus vizinhos\n",
    "valores_knnk = []\n",
    "valores_k = []\n",
    "for k in arange(np.min(graus_nos), np.max(graus_nos) + 1):\n",
    "    indices_com_k = np.where(np.array(graus_nos) == k)[0]\n",
    "    if len(grau_medio_vizinhos[indices_com_k]) > 0:\n",
    "        media_knn = mean(grau_medio_vizinhos[indices_com_k])\n",
    "        valores_knnk.append(media_knn)\n",
    "        valores_k.append(k)\n",
    "\n",
    "correlacao_pearson = corrcoef(valores_k, valores_knnk)[0, 1]\n",
    "print(\"Pearson correlation coefficient:\", correlacao_pearson)"
   ]
  }
 ],
 "metadata": {
  "kernelspec": {
   "display_name": "Python 3 (ipykernel)",
   "language": "python",
   "name": "python3"
  },
  "language_info": {
   "codemirror_mode": {
    "name": "ipython",
    "version": 3
   },
   "file_extension": ".py",
   "mimetype": "text/x-python",
   "name": "python",
   "nbconvert_exporter": "python",
   "pygments_lexer": "ipython3",
   "version": "3.11.4"
  }
 },
 "nbformat": 4,
 "nbformat_minor": 2
}
